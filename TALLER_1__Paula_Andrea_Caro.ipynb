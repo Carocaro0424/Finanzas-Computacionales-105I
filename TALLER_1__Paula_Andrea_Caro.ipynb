{
  "nbformat": 4,
  "nbformat_minor": 0,
  "metadata": {
    "colab": {
      "provenance": [],
      "authorship_tag": "ABX9TyNT6/DA6gV049KEMD9yyg55",
      "include_colab_link": true
    },
    "kernelspec": {
      "name": "python3",
      "display_name": "Python 3"
    },
    "language_info": {
      "name": "python"
    }
  },
  "cells": [
    {
      "cell_type": "markdown",
      "metadata": {
        "id": "view-in-github",
        "colab_type": "text"
      },
      "source": [
        "<a href=\"https://colab.research.google.com/github/Carocaro0424/Finanzas-Computacionales-105I/blob/main/TALLER_1__Paula_Andrea_Caro.ipynb\" target=\"_parent\"><img src=\"https://colab.research.google.com/assets/colab-badge.svg\" alt=\"Open In Colab\"/></a>"
      ]
    },
    {
      "cell_type": "markdown",
      "source": [
        "Taller 1 \n",
        "\n",
        "Nombres: Paula Andrea Caro y Santiago Rodriguez Valencia\n",
        "\n",
        "curso: 105I"
      ],
      "metadata": {
        "id": "JhOtdsRSEUDt"
      }
    },
    {
      "cell_type": "markdown",
      "source": [
        "1. Escoja dos acciones de su preferencia en el mercado estadounidense. Para estas dos\n",
        "acciones descargue las series de precios diarios para el periodo Ene-21 a Dic-2022 usando\n",
        "pandas datareader. Con esta información: \n",
        "\n",
        "*   a. Calcule los retornos logarítmicos diarios, mensuales y anualizados. Presente los resultados en una tabla.\n",
        "*   b. Calcule los retornos esperados y volatilidades anualizadas.\n",
        "*   c. Construya una tabla resumen con las estadísticas descriptivas de las    series diarias (media, mediana, desv. estándar, curtosis, simetría) de los dos activos.\n",
        "*   d. Compare las distribuciones empíricas de los dos activos con la distribución teórica normal.\n",
        "*   e. Calcule la matriz de correlaciones de Pearson, rango de Kendall y de Spearman.\n",
        "*   f. Implemente las pruebas de normalidad de Kolmogorov-Smirnov para todos los activos.\n",
        "\n",
        "\n",
        "\n",
        "\n"
      ],
      "metadata": {
        "id": "2C6TgEjuOlx3"
      }
    },
    {
      "cell_type": "code",
      "source": [
        "import numpy as np\n",
        "import pandas as pd\n",
        "import matplotlib.pyplot as plt\n",
        "import warnings\n",
        "warnings.filterwarnings(\"ignore\")\n",
        "!pip install --quiet yfinance\n",
        "import yfinance as yf"
      ],
      "metadata": {
        "id": "ycuxN1B1QtiM",
        "colab": {
          "base_uri": "https://localhost:8080/"
        },
        "outputId": "e7248b3f-0d9e-4e0a-effb-9a0cb6e2548c"
      },
      "execution_count": null,
      "outputs": [
        {
          "output_type": "stream",
          "name": "stdout",
          "text": [
            "\u001b[2K     \u001b[90m━━━━━━━━━━━━━━━━━━━━━━━━━━━━━━━━━━━━━━━━\u001b[0m \u001b[32m59.2/59.2 KB\u001b[0m \u001b[31m2.3 MB/s\u001b[0m eta \u001b[36m0:00:00\u001b[0m\n",
            "\u001b[2K     \u001b[90m━━━━━━━━━━━━━━━━━━━━━━━━━━━━━━━━━━━━━━━\u001b[0m \u001b[32m111.0/111.0 KB\u001b[0m \u001b[31m3.5 MB/s\u001b[0m eta \u001b[36m0:00:00\u001b[0m\n",
            "\u001b[2K     \u001b[90m━━━━━━━━━━━━━━━━━━━━━━━━━━━━━━━━━━━━━━━━\u001b[0m \u001b[32m62.8/62.8 KB\u001b[0m \u001b[31m3.4 MB/s\u001b[0m eta \u001b[36m0:00:00\u001b[0m\n",
            "\u001b[2K     \u001b[90m━━━━━━━━━━━━━━━━━━━━━━━━━━━━━━━━━━━━━━━\u001b[0m \u001b[32m112.2/112.2 KB\u001b[0m \u001b[31m7.9 MB/s\u001b[0m eta \u001b[36m0:00:00\u001b[0m\n",
            "\u001b[2K     \u001b[90m━━━━━━━━━━━━━━━━━━━━━━━━━━━━━━━━━━━━━━━\u001b[0m \u001b[32m129.4/129.4 KB\u001b[0m \u001b[31m7.3 MB/s\u001b[0m eta \u001b[36m0:00:00\u001b[0m\n",
            "\u001b[2K     \u001b[90m━━━━━━━━━━━━━━━━━━━━━━━━━━━━━━━━━━━━━━━━\u001b[0m \u001b[32m4.2/4.2 MB\u001b[0m \u001b[31m18.8 MB/s\u001b[0m eta \u001b[36m0:00:00\u001b[0m\n",
            "\u001b[?25h"
          ]
        }
      ]
    },
    {
      "cell_type": "markdown",
      "source": [
        "Datos acciones amazon y meta con resultados diarios "
      ],
      "metadata": {
        "id": "52Rmc4fshgPM"
      }
    },
    {
      "cell_type": "code",
      "source": [
        "from pandas_datareader import data as wb\n",
        "from datetime import datetime"
      ],
      "metadata": {
        "id": "yzWiGZhdnMph"
      },
      "execution_count": null,
      "outputs": []
    },
    {
      "cell_type": "code",
      "source": [
        "yf.pdr_override()"
      ],
      "metadata": {
        "id": "A4c0yjOPCfmC"
      },
      "execution_count": null,
      "outputs": []
    },
    {
      "cell_type": "markdown",
      "source": [
        "INFORMACIÓN DE LAS ACCIONES"
      ],
      "metadata": {
        "id": "B0Njm4f6cEOx"
      }
    },
    {
      "cell_type": "code",
      "source": [
        "#Descarga de datos de AMAZON, valor de cierre\n",
        "df_amazon = wb.get_data_yahoo(['AMZN'], start=(\"2021-01-01\"), end=(\"2022-12-31\"))['Adj Close']\n",
        "\n",
        "#Descarga de datos de META, valor de cierre\n",
        "df_meta = wb.get_data_yahoo(['META'], start=(\"2021-01-01\"), end=(\"2022-12-31\"))['Adj Close']"
      ],
      "metadata": {
        "colab": {
          "base_uri": "https://localhost:8080/"
        },
        "id": "WN75NBBwrY1e",
        "outputId": "3376212d-8216-4e6d-b9b1-5ea773efa705"
      },
      "execution_count": null,
      "outputs": [
        {
          "output_type": "stream",
          "name": "stdout",
          "text": [
            "[*********************100%***********************]  1 of 1 completed\n",
            "[*********************100%***********************]  1 of 1 completed\n"
          ]
        }
      ]
    },
    {
      "cell_type": "markdown",
      "source": [
        "Retornos diarios, mensuales y anualizados"
      ],
      "metadata": {
        "id": "wL1Du2EAHLgP"
      }
    },
    {
      "cell_type": "code",
      "source": [
        "activos = [\"AMZN\", \"META\"]\n",
        "precios_diarios =wb.get_data_yahoo(activos,start=\"2021-01-01\",end=\"2022-12-31\")[\"Adj Close\"] \n",
        "retornos_diarios = np.log(precios_diarios/precios_diarios.shift(1)).dropna()\n",
        "retornos_diarios.head()\n"
      ],
      "metadata": {
        "id": "YmcStkmfS0HK",
        "colab": {
          "base_uri": "https://localhost:8080/",
          "height": 255
        },
        "outputId": "11192723-2f2b-4830-cc0e-e4bef46a215b"
      },
      "execution_count": null,
      "outputs": [
        {
          "output_type": "stream",
          "name": "stdout",
          "text": [
            "\r[                       0%                       ]\r[*********************100%***********************]  2 of 2 completed\n"
          ]
        },
        {
          "output_type": "execute_result",
          "data": {
            "text/plain": [
              "                AMZN      META\n",
              "Date                          \n",
              "2021-01-05  0.009955  0.007520\n",
              "2021-01-06 -0.025212 -0.028676\n",
              "2021-01-07  0.007549  0.020412\n",
              "2021-01-08  0.006475 -0.004363\n",
              "2021-01-11 -0.021754 -0.040928"
            ],
            "text/html": [
              "\n",
              "  <div id=\"df-646662c5-967e-4f5b-8e00-b9c463e3c2a4\">\n",
              "    <div class=\"colab-df-container\">\n",
              "      <div>\n",
              "<style scoped>\n",
              "    .dataframe tbody tr th:only-of-type {\n",
              "        vertical-align: middle;\n",
              "    }\n",
              "\n",
              "    .dataframe tbody tr th {\n",
              "        vertical-align: top;\n",
              "    }\n",
              "\n",
              "    .dataframe thead th {\n",
              "        text-align: right;\n",
              "    }\n",
              "</style>\n",
              "<table border=\"1\" class=\"dataframe\">\n",
              "  <thead>\n",
              "    <tr style=\"text-align: right;\">\n",
              "      <th></th>\n",
              "      <th>AMZN</th>\n",
              "      <th>META</th>\n",
              "    </tr>\n",
              "    <tr>\n",
              "      <th>Date</th>\n",
              "      <th></th>\n",
              "      <th></th>\n",
              "    </tr>\n",
              "  </thead>\n",
              "  <tbody>\n",
              "    <tr>\n",
              "      <th>2021-01-05</th>\n",
              "      <td>0.009955</td>\n",
              "      <td>0.007520</td>\n",
              "    </tr>\n",
              "    <tr>\n",
              "      <th>2021-01-06</th>\n",
              "      <td>-0.025212</td>\n",
              "      <td>-0.028676</td>\n",
              "    </tr>\n",
              "    <tr>\n",
              "      <th>2021-01-07</th>\n",
              "      <td>0.007549</td>\n",
              "      <td>0.020412</td>\n",
              "    </tr>\n",
              "    <tr>\n",
              "      <th>2021-01-08</th>\n",
              "      <td>0.006475</td>\n",
              "      <td>-0.004363</td>\n",
              "    </tr>\n",
              "    <tr>\n",
              "      <th>2021-01-11</th>\n",
              "      <td>-0.021754</td>\n",
              "      <td>-0.040928</td>\n",
              "    </tr>\n",
              "  </tbody>\n",
              "</table>\n",
              "</div>\n",
              "      <button class=\"colab-df-convert\" onclick=\"convertToInteractive('df-646662c5-967e-4f5b-8e00-b9c463e3c2a4')\"\n",
              "              title=\"Convert this dataframe to an interactive table.\"\n",
              "              style=\"display:none;\">\n",
              "        \n",
              "  <svg xmlns=\"http://www.w3.org/2000/svg\" height=\"24px\"viewBox=\"0 0 24 24\"\n",
              "       width=\"24px\">\n",
              "    <path d=\"M0 0h24v24H0V0z\" fill=\"none\"/>\n",
              "    <path d=\"M18.56 5.44l.94 2.06.94-2.06 2.06-.94-2.06-.94-.94-2.06-.94 2.06-2.06.94zm-11 1L8.5 8.5l.94-2.06 2.06-.94-2.06-.94L8.5 2.5l-.94 2.06-2.06.94zm10 10l.94 2.06.94-2.06 2.06-.94-2.06-.94-.94-2.06-.94 2.06-2.06.94z\"/><path d=\"M17.41 7.96l-1.37-1.37c-.4-.4-.92-.59-1.43-.59-.52 0-1.04.2-1.43.59L10.3 9.45l-7.72 7.72c-.78.78-.78 2.05 0 2.83L4 21.41c.39.39.9.59 1.41.59.51 0 1.02-.2 1.41-.59l7.78-7.78 2.81-2.81c.8-.78.8-2.07 0-2.86zM5.41 20L4 18.59l7.72-7.72 1.47 1.35L5.41 20z\"/>\n",
              "  </svg>\n",
              "      </button>\n",
              "      \n",
              "  <style>\n",
              "    .colab-df-container {\n",
              "      display:flex;\n",
              "      flex-wrap:wrap;\n",
              "      gap: 12px;\n",
              "    }\n",
              "\n",
              "    .colab-df-convert {\n",
              "      background-color: #E8F0FE;\n",
              "      border: none;\n",
              "      border-radius: 50%;\n",
              "      cursor: pointer;\n",
              "      display: none;\n",
              "      fill: #1967D2;\n",
              "      height: 32px;\n",
              "      padding: 0 0 0 0;\n",
              "      width: 32px;\n",
              "    }\n",
              "\n",
              "    .colab-df-convert:hover {\n",
              "      background-color: #E2EBFA;\n",
              "      box-shadow: 0px 1px 2px rgba(60, 64, 67, 0.3), 0px 1px 3px 1px rgba(60, 64, 67, 0.15);\n",
              "      fill: #174EA6;\n",
              "    }\n",
              "\n",
              "    [theme=dark] .colab-df-convert {\n",
              "      background-color: #3B4455;\n",
              "      fill: #D2E3FC;\n",
              "    }\n",
              "\n",
              "    [theme=dark] .colab-df-convert:hover {\n",
              "      background-color: #434B5C;\n",
              "      box-shadow: 0px 1px 3px 1px rgba(0, 0, 0, 0.15);\n",
              "      filter: drop-shadow(0px 1px 2px rgba(0, 0, 0, 0.3));\n",
              "      fill: #FFFFFF;\n",
              "    }\n",
              "  </style>\n",
              "\n",
              "      <script>\n",
              "        const buttonEl =\n",
              "          document.querySelector('#df-646662c5-967e-4f5b-8e00-b9c463e3c2a4 button.colab-df-convert');\n",
              "        buttonEl.style.display =\n",
              "          google.colab.kernel.accessAllowed ? 'block' : 'none';\n",
              "\n",
              "        async function convertToInteractive(key) {\n",
              "          const element = document.querySelector('#df-646662c5-967e-4f5b-8e00-b9c463e3c2a4');\n",
              "          const dataTable =\n",
              "            await google.colab.kernel.invokeFunction('convertToInteractive',\n",
              "                                                     [key], {});\n",
              "          if (!dataTable) return;\n",
              "\n",
              "          const docLinkHtml = 'Like what you see? Visit the ' +\n",
              "            '<a target=\"_blank\" href=https://colab.research.google.com/notebooks/data_table.ipynb>data table notebook</a>'\n",
              "            + ' to learn more about interactive tables.';\n",
              "          element.innerHTML = '';\n",
              "          dataTable['output_type'] = 'display_data';\n",
              "          await google.colab.output.renderOutput(dataTable, element);\n",
              "          const docLink = document.createElement('div');\n",
              "          docLink.innerHTML = docLinkHtml;\n",
              "          element.appendChild(docLink);\n",
              "        }\n",
              "      </script>\n",
              "    </div>\n",
              "  </div>\n",
              "  "
            ]
          },
          "metadata": {},
          "execution_count": 5
        }
      ]
    },
    {
      "cell_type": "code",
      "source": [
        "retornos_diarios.mean()*21"
      ],
      "metadata": {
        "colab": {
          "base_uri": "https://localhost:8080/"
        },
        "id": "uqFN1-B_eTNb",
        "outputId": "42f0ee17-d510-46ab-e1e5-3c0506d26529"
      },
      "execution_count": null,
      "outputs": [
        {
          "output_type": "execute_result",
          "data": {
            "text/plain": [
              "AMZN   -0.02678\n",
              "META   -0.03364\n",
              "dtype: float64"
            ]
          },
          "metadata": {},
          "execution_count": 6
        }
      ]
    },
    {
      "cell_type": "code",
      "source": [
        "retornos_diarios.mean()*252"
      ],
      "metadata": {
        "colab": {
          "base_uri": "https://localhost:8080/"
        },
        "id": "amO-VdHqkO7j",
        "outputId": "17cb6af1-a95b-4a0f-98a6-450856e92dd5"
      },
      "execution_count": null,
      "outputs": [
        {
          "output_type": "execute_result",
          "data": {
            "text/plain": [
              "AMZN   -0.321360\n",
              "META   -0.403686\n",
              "dtype: float64"
            ]
          },
          "metadata": {},
          "execution_count": 7
        }
      ]
    },
    {
      "cell_type": "markdown",
      "source": [
        "Retornos volatibilidades diarios, mensuales y anualizados"
      ],
      "metadata": {
        "id": "zpekrG_8k9eH"
      }
    },
    {
      "cell_type": "code",
      "source": [
        "retornos_diarios.std()"
      ],
      "metadata": {
        "colab": {
          "base_uri": "https://localhost:8080/"
        },
        "id": "dpFukyCDkgJd",
        "outputId": "6573d432-aba5-4be5-f7ad-e6d8d99a69d4"
      },
      "execution_count": null,
      "outputs": [
        {
          "output_type": "execute_result",
          "data": {
            "text/plain": [
              "AMZN    0.024795\n",
              "META    0.032776\n",
              "dtype: float64"
            ]
          },
          "metadata": {},
          "execution_count": 8
        }
      ]
    },
    {
      "cell_type": "code",
      "source": [
        "retornos_diarios.std()*np.sqrt(21)"
      ],
      "metadata": {
        "colab": {
          "base_uri": "https://localhost:8080/"
        },
        "id": "JTmG3LXDkn5i",
        "outputId": "7afd1c2a-28cd-461c-c95f-549ef36fd4a3"
      },
      "execution_count": null,
      "outputs": [
        {
          "output_type": "execute_result",
          "data": {
            "text/plain": [
              "AMZN    0.113624\n",
              "META    0.150197\n",
              "dtype: float64"
            ]
          },
          "metadata": {},
          "execution_count": 9
        }
      ]
    },
    {
      "cell_type": "code",
      "source": [
        "retornos_diarios.std()*np.sqrt(252)"
      ],
      "metadata": {
        "colab": {
          "base_uri": "https://localhost:8080/"
        },
        "id": "CFwzivN-k39q",
        "outputId": "9da506c5-b155-4d62-f625-a9929d0b850a"
      },
      "execution_count": null,
      "outputs": [
        {
          "output_type": "execute_result",
          "data": {
            "text/plain": [
              "AMZN    0.393604\n",
              "META    0.520298\n",
              "dtype: float64"
            ]
          },
          "metadata": {},
          "execution_count": 10
        }
      ]
    },
    {
      "cell_type": "markdown",
      "source": [
        "Estadistica descriptiva "
      ],
      "metadata": {
        "id": "OL_J7Im8HaE6"
      }
    },
    {
      "cell_type": "code",
      "source": [
        "pip install tabulate"
      ],
      "metadata": {
        "colab": {
          "base_uri": "https://localhost:8080/"
        },
        "id": "JJE73wsaLIEN",
        "outputId": "efc009b3-6de8-4029-e293-5a0dde407b2b"
      },
      "execution_count": null,
      "outputs": [
        {
          "output_type": "stream",
          "name": "stdout",
          "text": [
            "Looking in indexes: https://pypi.org/simple, https://us-python.pkg.dev/colab-wheels/public/simple/\n",
            "Requirement already satisfied: tabulate in /usr/local/lib/python3.8/dist-packages (0.8.10)\n"
          ]
        }
      ]
    },
    {
      "cell_type": "code",
      "source": [
        "from tabulate import tabulate\n",
        "mydata = [\n",
        "    [\"Mediana\", retornos_diarios[\"AMZN\"].median(),retornos_diarios[\"META\"].median()],\n",
        "    [\"Media\", retornos_diarios[\"AMZN\"].mean(),retornos_diarios[\"META\"].mean()],\n",
        "    [\"Desviacion estandar\", retornos_diarios[\"AMZN\"].std(),retornos_diarios[\"META\"].std()],\n",
        "      [\"Curtosis\",retornos_diarios[\"AMZN\"].kurtosis(),retornos_diarios[\"META\"].kurtosis() ]\n",
        "]\n",
        "head = [\"Estadistica descriptiva\", \"Amazon\",\"META\"]\n",
        "print(tabulate(mydata, headers=head, tablefmt =\"grid\"))\n",
        "\n"
      ],
      "metadata": {
        "colab": {
          "base_uri": "https://localhost:8080/"
        },
        "id": "nSSIdhVHLDhy",
        "outputId": "988d3be7-440a-47d7-c492-d353fc7e8126"
      },
      "execution_count": null,
      "outputs": [
        {
          "output_type": "stream",
          "name": "stdout",
          "text": [
            "+---------------------------+--------------+--------------+\n",
            "| Estadistica descriptiva   |       Amazon |         META |\n",
            "+===========================+==============+==============+\n",
            "| Mediana                   | -0.000389199 | -0.000310158 |\n",
            "+---------------------------+--------------+--------------+\n",
            "| Media                     | -0.00127524  | -0.00160193  |\n",
            "+---------------------------+--------------+--------------+\n",
            "| Desviacion estandar       |  0.0247947   |  0.0327757   |\n",
            "+---------------------------+--------------+--------------+\n",
            "| Curtosis                  |  5.29844     | 25.7599      |\n",
            "+---------------------------+--------------+--------------+\n"
          ]
        }
      ]
    },
    {
      "cell_type": "markdown",
      "source": [
        "Distribuciones empíricas de los dos activos con la distribución teórica normal."
      ],
      "metadata": {
        "id": "P01xvqSaMmJk"
      }
    },
    {
      "cell_type": "code",
      "source": [
        "from scipy.stats import norm\n",
        "retornos_diarios['AMZN'].hist(bins=20,density=True,histtype=\"step\")\n",
        "x = np.linspace(-0.1,0.1,num=100)\n",
        "sigma=retornos_diarios['AMZN'].std()\n",
        "plt.plot(x,norm.pdf(x,scale=sigma),\"k\")\n",
        "plt.axvline(retornos_diarios['AMZN'].mean(),color=\"r\");\n",
        "plt.xlabel(\"Retornos\")\n",
        "plt.ylabel(\"Probabilidad\");\n"
      ],
      "metadata": {
        "colab": {
          "base_uri": "https://localhost:8080/",
          "height": 279
        },
        "id": "6ZkKOaNOlH6B",
        "outputId": "5533c619-fbfe-4b6d-c18e-8a8ed727dbe4"
      },
      "execution_count": null,
      "outputs": [
        {
          "output_type": "display_data",
          "data": {
            "text/plain": [
              "<Figure size 432x288 with 1 Axes>"
            ],
            "image/png": "[encoded data removed]"
          },
          "metadata": {
            "needs_background": "light"
          }
        }
      ]
    },
    {
      "cell_type": "code",
      "source": [
        "from scipy.stats import norm\n",
        "retornos_diarios['META'].hist(bins=20,density=True,histtype=\"step\")\n",
        "x = np.linspace(-0.1,0.1,num=100)\n",
        "sigma=retornos_diarios['META'].std()\n",
        "plt.plot(x,norm.pdf(x,scale=sigma),\"k\")\n",
        "plt.axvline(retornos_diarios['META'].mean(),color=\"r\");\n",
        "plt.xlabel(\"Retornos\")\n",
        "plt.ylabel(\"Probabilidad\");"
      ],
      "metadata": {
        "colab": {
          "base_uri": "https://localhost:8080/",
          "height": 279
        },
        "id": "v3d62g4dnJfu",
        "outputId": "a83d2cc8-d27d-4b70-8b81-07e148fd80d7"
      },
      "execution_count": null,
      "outputs": [
        {
          "output_type": "display_data",
          "data": {
            "text/plain": [
              "<Figure size 432x288 with 1 Axes>"
            ],
            "image/png": "[encoded data removed]"
          },
          "metadata": {
            "needs_background": "light"
          }
        }
      ]
    },
    {
      "cell_type": "markdown",
      "source": [
        "Correlación Pearson"
      ],
      "metadata": {
        "id": "Obbdg5Ggn13h"
      }
    },
    {
      "cell_type": "code",
      "source": [
        "retornos_diarios['AMZN'].corr(retornos_diarios['META'],method=\"pearson\")"
      ],
      "metadata": {
        "colab": {
          "base_uri": "https://localhost:8080/"
        },
        "id": "LpfyImJvnSEz",
        "outputId": "a4e91c05-345a-4f57-9c8d-6dbdeb0da376"
      },
      "execution_count": null,
      "outputs": [
        {
          "output_type": "execute_result",
          "data": {
            "text/plain": [
              "0.5819657075684893"
            ]
          },
          "metadata": {},
          "execution_count": 15
        }
      ]
    },
    {
      "cell_type": "markdown",
      "source": [
        "Correlación Kendall"
      ],
      "metadata": {
        "id": "NQfmGoYZoQwB"
      }
    },
    {
      "cell_type": "code",
      "source": [
        "import scipy.stats as stats\n",
        "stats.kendalltau(retornos_diarios['AMZN'], retornos_diarios['META'])"
      ],
      "metadata": {
        "colab": {
          "base_uri": "https://localhost:8080/"
        },
        "id": "TbU6FV06pF_E",
        "outputId": "eaad38b3-a842-4b30-e16e-17614c8766ef"
      },
      "execution_count": null,
      "outputs": [
        {
          "output_type": "execute_result",
          "data": {
            "text/plain": [
              "KendalltauResult(correlation=0.46751914497697833, pvalue=2.9387977153972924e-55)"
            ]
          },
          "metadata": {},
          "execution_count": 16
        }
      ]
    },
    {
      "cell_type": "code",
      "source": [
        "retornos_diarios['AMZN'].corr(retornos_diarios['META'], method='kendall')"
      ],
      "metadata": {
        "colab": {
          "base_uri": "https://localhost:8080/"
        },
        "id": "3-2m_h9kpS-s",
        "outputId": "cdacdf49-dda1-4be5-a63e-5e7ab766ace6"
      },
      "execution_count": null,
      "outputs": [
        {
          "output_type": "execute_result",
          "data": {
            "text/plain": [
              "0.46751914497697833"
            ]
          },
          "metadata": {},
          "execution_count": 17
        }
      ]
    },
    {
      "cell_type": "markdown",
      "source": [
        "Correlación Spearman"
      ],
      "metadata": {
        "id": "5NQH14EVprAi"
      }
    },
    {
      "cell_type": "code",
      "source": [
        "stats.spearmanr(retornos_diarios['AMZN'], retornos_diarios['META'])"
      ],
      "metadata": {
        "colab": {
          "base_uri": "https://localhost:8080/"
        },
        "id": "yp1b77kUp1-_",
        "outputId": "78e8e9a2-cef8-45e3-c16a-5947f119c96c"
      },
      "execution_count": null,
      "outputs": [
        {
          "output_type": "execute_result",
          "data": {
            "text/plain": [
              "SpearmanrResult(correlation=0.6299214043695458, pvalue=7.358745418346257e-57)"
            ]
          },
          "metadata": {},
          "execution_count": 18
        }
      ]
    },
    {
      "cell_type": "code",
      "source": [
        "retornos_diarios['AMZN'].corr(retornos_diarios['META'], method='spearman')"
      ],
      "metadata": {
        "colab": {
          "base_uri": "https://localhost:8080/"
        },
        "id": "fRpzUXLGp-2W",
        "outputId": "166336c1-d994-43d5-ad76-6b4d7107cbdb"
      },
      "execution_count": null,
      "outputs": [
        {
          "output_type": "execute_result",
          "data": {
            "text/plain": [
              "0.6299214043695458"
            ]
          },
          "metadata": {},
          "execution_count": 19
        }
      ]
    },
    {
      "cell_type": "markdown",
      "source": [
        "**PUNTO 2**"
      ],
      "metadata": {
        "id": "0tzO0u39qOO7"
      }
    },
    {
      "cell_type": "markdown",
      "source": [
        "Escoja 10 acciones de su preferencia en el mercado estadounidense. Para estas\n",
        "acciones descargue las series de precios mensuales para el periodo Dic-17 a Dic-2022."
      ],
      "metadata": {
        "id": "_y0092h-qeIU"
      }
    },
    {
      "cell_type": "code",
      "source": [
        "activos = [\"MCO\", \"F\",\"AAPL\",\"DIS\",\"MSFT\",\"BRK-B\",\"SBUX\",\"AXP\",\"VZ\",\"KO\"]\n",
        "precios_mensuales =wb.get_data_yahoo(activos,start=\"2017-12-01\",end=\"2022-12-31\",interval=\"1Mo\")[\"Adj Close\"] \n",
        "retornos_mensuales= np.log(precios_mensuales/precios_mensuales.shift(1)).dropna()\n",
        "retornos_mensuales.head()"
      ],
      "metadata": {
        "colab": {
          "base_uri": "https://localhost:8080/",
          "height": 255
        },
        "id": "DNeSHcA2qYgc",
        "outputId": "72d89568-b22c-4d6a-bfb5-aa22a52ec026"
      },
      "execution_count": null,
      "outputs": [
        {
          "output_type": "stream",
          "name": "stdout",
          "text": [
            "[*********************100%***********************]  10 of 10 completed\n"
          ]
        },
        {
          "output_type": "execute_result",
          "data": {
            "text/plain": [
              "                AAPL       AXP     BRK-B       DIS         F        KO  \\\n",
              "Date                                                                     \n",
              "2018-01-01 -0.010694  0.000906  0.078373  0.018744 -0.129764  0.036594   \n",
              "2018-02-01  0.061892 -0.015675 -0.034066 -0.052035 -0.009040 -0.096319   \n",
              "2018-03-01 -0.055735 -0.044349 -0.037971 -0.026721  0.043345  0.004847   \n",
              "2018-04-01 -0.015134  0.056985 -0.029249 -0.001096  0.014337  0.003710   \n",
              "2018-05-01  0.122893 -0.000820 -0.011421 -0.008609  0.040534 -0.004872   \n",
              "\n",
              "                 MCO      MSFT      SBUX        VZ  \n",
              "Date                                                \n",
              "2018-01-01  0.091726  0.104998 -0.010854  0.021309  \n",
              "2018-02-01  0.030976 -0.013137  0.005092 -0.113184  \n",
              "2018-03-01 -0.031371 -0.022336  0.019150  0.001674  \n",
              "2018-04-01  0.005564  0.024353 -0.005543  0.031494  \n",
              "2018-05-01  0.050316  0.055327 -0.015757 -0.022131  "
            ],
            "text/html": [
              "\n",
              "  <div id=\"df-e29b585d-df02-4aa4-a9ef-c3191c80f617\">\n",
              "    <div class=\"colab-df-container\">\n",
              "      <div>\n",
              "<style scoped>\n",
              "    .dataframe tbody tr th:only-of-type {\n",
              "        vertical-align: middle;\n",
              "    }\n",
              "\n",
              "    .dataframe tbody tr th {\n",
              "        vertical-align: top;\n",
              "    }\n",
              "\n",
              "    .dataframe thead th {\n",
              "        text-align: right;\n",
              "    }\n",
              "</style>\n",
              "<table border=\"1\" class=\"dataframe\">\n",
              "  <thead>\n",
              "    <tr style=\"text-align: right;\">\n",
              "      <th></th>\n",
              "      <th>AAPL</th>\n",
              "      <th>AXP</th>\n",
              "      <th>BRK-B</th>\n",
              "      <th>DIS</th>\n",
              "      <th>F</th>\n",
              "      <th>KO</th>\n",
              "      <th>MCO</th>\n",
              "      <th>MSFT</th>\n",
              "      <th>SBUX</th>\n",
              "      <th>VZ</th>\n",
              "    </tr>\n",
              "    <tr>\n",
              "      <th>Date</th>\n",
              "      <th></th>\n",
              "      <th></th>\n",
              "      <th></th>\n",
              "      <th></th>\n",
              "      <th></th>\n",
              "      <th></th>\n",
              "      <th></th>\n",
              "      <th></th>\n",
              "      <th></th>\n",
              "      <th></th>\n",
              "    </tr>\n",
              "  </thead>\n",
              "  <tbody>\n",
              "    <tr>\n",
              "      <th>2018-01-01</th>\n",
              "      <td>-0.010694</td>\n",
              "      <td>0.000906</td>\n",
              "      <td>0.078373</td>\n",
              "      <td>0.018744</td>\n",
              "      <td>-0.129764</td>\n",
              "      <td>0.036594</td>\n",
              "      <td>0.091726</td>\n",
              "      <td>0.104998</td>\n",
              "      <td>-0.010854</td>\n",
              "      <td>0.021309</td>\n",
              "    </tr>\n",
              "    <tr>\n",
              "      <th>2018-02-01</th>\n",
              "      <td>0.061892</td>\n",
              "      <td>-0.015675</td>\n",
              "      <td>-0.034066</td>\n",
              "      <td>-0.052035</td>\n",
              "      <td>-0.009040</td>\n",
              "      <td>-0.096319</td>\n",
              "      <td>0.030976</td>\n",
              "      <td>-0.013137</td>\n",
              "      <td>0.005092</td>\n",
              "      <td>-0.113184</td>\n",
              "    </tr>\n",
              "    <tr>\n",
              "      <th>2018-03-01</th>\n",
              "      <td>-0.055735</td>\n",
              "      <td>-0.044349</td>\n",
              "      <td>-0.037971</td>\n",
              "      <td>-0.026721</td>\n",
              "      <td>0.043345</td>\n",
              "      <td>0.004847</td>\n",
              "      <td>-0.031371</td>\n",
              "      <td>-0.022336</td>\n",
              "      <td>0.019150</td>\n",
              "      <td>0.001674</td>\n",
              "    </tr>\n",
              "    <tr>\n",
              "      <th>2018-04-01</th>\n",
              "      <td>-0.015134</td>\n",
              "      <td>0.056985</td>\n",
              "      <td>-0.029249</td>\n",
              "      <td>-0.001096</td>\n",
              "      <td>0.014337</td>\n",
              "      <td>0.003710</td>\n",
              "      <td>0.005564</td>\n",
              "      <td>0.024353</td>\n",
              "      <td>-0.005543</td>\n",
              "      <td>0.031494</td>\n",
              "    </tr>\n",
              "    <tr>\n",
              "      <th>2018-05-01</th>\n",
              "      <td>0.122893</td>\n",
              "      <td>-0.000820</td>\n",
              "      <td>-0.011421</td>\n",
              "      <td>-0.008609</td>\n",
              "      <td>0.040534</td>\n",
              "      <td>-0.004872</td>\n",
              "      <td>0.050316</td>\n",
              "      <td>0.055327</td>\n",
              "      <td>-0.015757</td>\n",
              "      <td>-0.022131</td>\n",
              "    </tr>\n",
              "  </tbody>\n",
              "</table>\n",
              "</div>\n",
              "      <button class=\"colab-df-convert\" onclick=\"convertToInteractive('df-e29b585d-df02-4aa4-a9ef-c3191c80f617')\"\n",
              "              title=\"Convert this dataframe to an interactive table.\"\n",
              "              style=\"display:none;\">\n",
              "        \n",
              "  <svg xmlns=\"http://www.w3.org/2000/svg\" height=\"24px\"viewBox=\"0 0 24 24\"\n",
              "       width=\"24px\">\n",
              "    <path d=\"M0 0h24v24H0V0z\" fill=\"none\"/>\n",
              "    <path d=\"M18.56 5.44l.94 2.06.94-2.06 2.06-.94-2.06-.94-.94-2.06-.94 2.06-2.06.94zm-11 1L8.5 8.5l.94-2.06 2.06-.94-2.06-.94L8.5 2.5l-.94 2.06-2.06.94zm10 10l.94 2.06.94-2.06 2.06-.94-2.06-.94-.94-2.06-.94 2.06-2.06.94z\"/><path d=\"M17.41 7.96l-1.37-1.37c-.4-.4-.92-.59-1.43-.59-.52 0-1.04.2-1.43.59L10.3 9.45l-7.72 7.72c-.78.78-.78 2.05 0 2.83L4 21.41c.39.39.9.59 1.41.59.51 0 1.02-.2 1.41-.59l7.78-7.78 2.81-2.81c.8-.78.8-2.07 0-2.86zM5.41 20L4 18.59l7.72-7.72 1.47 1.35L5.41 20z\"/>\n",
              "  </svg>\n",
              "      </button>\n",
              "      \n",
              "  <style>\n",
              "    .colab-df-container {\n",
              "      display:flex;\n",
              "      flex-wrap:wrap;\n",
              "      gap: 12px;\n",
              "    }\n",
              "\n",
              "    .colab-df-convert {\n",
              "      background-color: #E8F0FE;\n",
              "      border: none;\n",
              "      border-radius: 50%;\n",
              "      cursor: pointer;\n",
              "      display: none;\n",
              "      fill: #1967D2;\n",
              "      height: 32px;\n",
              "      padding: 0 0 0 0;\n",
              "      width: 32px;\n",
              "    }\n",
              "\n",
              "    .colab-df-convert:hover {\n",
              "      background-color: #E2EBFA;\n",
              "      box-shadow: 0px 1px 2px rgba(60, 64, 67, 0.3), 0px 1px 3px 1px rgba(60, 64, 67, 0.15);\n",
              "      fill: #174EA6;\n",
              "    }\n",
              "\n",
              "    [theme=dark] .colab-df-convert {\n",
              "      background-color: #3B4455;\n",
              "      fill: #D2E3FC;\n",
              "    }\n",
              "\n",
              "    [theme=dark] .colab-df-convert:hover {\n",
              "      background-color: #434B5C;\n",
              "      box-shadow: 0px 1px 3px 1px rgba(0, 0, 0, 0.15);\n",
              "      filter: drop-shadow(0px 1px 2px rgba(0, 0, 0, 0.3));\n",
              "      fill: #FFFFFF;\n",
              "    }\n",
              "  </style>\n",
              "\n",
              "      <script>\n",
              "        const buttonEl =\n",
              "          document.querySelector('#df-e29b585d-df02-4aa4-a9ef-c3191c80f617 button.colab-df-convert');\n",
              "        buttonEl.style.display =\n",
              "          google.colab.kernel.accessAllowed ? 'block' : 'none';\n",
              "\n",
              "        async function convertToInteractive(key) {\n",
              "          const element = document.querySelector('#df-e29b585d-df02-4aa4-a9ef-c3191c80f617');\n",
              "          const dataTable =\n",
              "            await google.colab.kernel.invokeFunction('convertToInteractive',\n",
              "                                                     [key], {});\n",
              "          if (!dataTable) return;\n",
              "\n",
              "          const docLinkHtml = 'Like what you see? Visit the ' +\n",
              "            '<a target=\"_blank\" href=https://colab.research.google.com/notebooks/data_table.ipynb>data table notebook</a>'\n",
              "            + ' to learn more about interactive tables.';\n",
              "          element.innerHTML = '';\n",
              "          dataTable['output_type'] = 'display_data';\n",
              "          await google.colab.output.renderOutput(dataTable, element);\n",
              "          const docLink = document.createElement('div');\n",
              "          docLink.innerHTML = docLinkHtml;\n",
              "          element.appendChild(docLink);\n",
              "        }\n",
              "      </script>\n",
              "    </div>\n",
              "  </div>\n",
              "  "
            ]
          },
          "metadata": {},
          "execution_count": 20
        }
      ]
    },
    {
      "cell_type": "code",
      "source": [
        "retornos_mensuales_anualizados =retornos_mensuales.mean()*12"
      ],
      "metadata": {
        "id": "SdVjzw1Ttd91"
      },
      "execution_count": null,
      "outputs": []
    },
    {
      "cell_type": "code",
      "source": [
        "retornos_mensuales.std()*np.sqrt(12)"
      ],
      "metadata": {
        "colab": {
          "base_uri": "https://localhost:8080/"
        },
        "id": "b-LIEce-trOX",
        "outputId": "a7ff77cf-01c2-4224-8b22-6f632e165824"
      },
      "execution_count": null,
      "outputs": [
        {
          "output_type": "execute_result",
          "data": {
            "text/plain": [
              "AAPL     0.319091\n",
              "AXP      0.291930\n",
              "BRK-B    0.209831\n",
              "DIS      0.321140\n",
              "F        0.431608\n",
              "KO       0.197600\n",
              "MCO      0.270059\n",
              "MSFT     0.212894\n",
              "SBUX     0.266532\n",
              "VZ       0.171293\n",
              "dtype: float64"
            ]
          },
          "metadata": {},
          "execution_count": 22
        }
      ]
    },
    {
      "cell_type": "markdown",
      "source": [
        "Tabla ranqueos de los activos"
      ],
      "metadata": {
        "id": "yg4s6rZdwIg0"
      }
    },
    {
      "cell_type": "code",
      "source": [
        "retornos_mensuales_anualizados"
      ],
      "metadata": {
        "colab": {
          "base_uri": "https://localhost:8080/"
        },
        "id": "0vAd8VHJzeaU",
        "outputId": "34679b30-baea-4f7c-be21-a2cd91d3fb01"
      },
      "execution_count": null,
      "outputs": [
        {
          "output_type": "execute_result",
          "data": {
            "text/plain": [
              "AAPL     0.234476\n",
              "AXP      0.093692\n",
              "BRK-B    0.088728\n",
              "DIS     -0.035433\n",
              "F        0.023266\n",
              "KO       0.097156\n",
              "MCO      0.136221\n",
              "MSFT     0.218191\n",
              "SBUX     0.129678\n",
              "VZ      -0.013389\n",
              "dtype: float64"
            ]
          },
          "metadata": {},
          "execution_count": 23
        }
      ]
    },
    {
      "cell_type": "code",
      "source": [
        "df = pd.DataFrame(retornos_mensuales_anualizados, columns=[\"Retornos\"])\n",
        "df"
      ],
      "metadata": {
        "colab": {
          "base_uri": "https://localhost:8080/",
          "height": 363
        },
        "id": "c6d4GrGe0wAp",
        "outputId": "9bc2ccc0-ea5e-41bc-d926-3b579c7f4e55"
      },
      "execution_count": null,
      "outputs": [
        {
          "output_type": "execute_result",
          "data": {
            "text/plain": [
              "       Retornos\n",
              "AAPL   0.234476\n",
              "AXP    0.093692\n",
              "BRK-B  0.088728\n",
              "DIS   -0.035433\n",
              "F      0.023266\n",
              "KO     0.097156\n",
              "MCO    0.136221\n",
              "MSFT   0.218191\n",
              "SBUX   0.129678\n",
              "VZ    -0.013389"
            ],
            "text/html": [
              "\n",
              "  <div id=\"df-f0ba8d5d-0f90-405d-b373-b0f2c9164728\">\n",
              "    <div class=\"colab-df-container\">\n",
              "      <div>\n",
              "<style scoped>\n",
              "    .dataframe tbody tr th:only-of-type {\n",
              "        vertical-align: middle;\n",
              "    }\n",
              "\n",
              "    .dataframe tbody tr th {\n",
              "        vertical-align: top;\n",
              "    }\n",
              "\n",
              "    .dataframe thead th {\n",
              "        text-align: right;\n",
              "    }\n",
              "</style>\n",
              "<table border=\"1\" class=\"dataframe\">\n",
              "  <thead>\n",
              "    <tr style=\"text-align: right;\">\n",
              "      <th></th>\n",
              "      <th>Retornos</th>\n",
              "    </tr>\n",
              "  </thead>\n",
              "  <tbody>\n",
              "    <tr>\n",
              "      <th>AAPL</th>\n",
              "      <td>0.234476</td>\n",
              "    </tr>\n",
              "    <tr>\n",
              "      <th>AXP</th>\n",
              "      <td>0.093692</td>\n",
              "    </tr>\n",
              "    <tr>\n",
              "      <th>BRK-B</th>\n",
              "      <td>0.088728</td>\n",
              "    </tr>\n",
              "    <tr>\n",
              "      <th>DIS</th>\n",
              "      <td>-0.035433</td>\n",
              "    </tr>\n",
              "    <tr>\n",
              "      <th>F</th>\n",
              "      <td>0.023266</td>\n",
              "    </tr>\n",
              "    <tr>\n",
              "      <th>KO</th>\n",
              "      <td>0.097156</td>\n",
              "    </tr>\n",
              "    <tr>\n",
              "      <th>MCO</th>\n",
              "      <td>0.136221</td>\n",
              "    </tr>\n",
              "    <tr>\n",
              "      <th>MSFT</th>\n",
              "      <td>0.218191</td>\n",
              "    </tr>\n",
              "    <tr>\n",
              "      <th>SBUX</th>\n",
              "      <td>0.129678</td>\n",
              "    </tr>\n",
              "    <tr>\n",
              "      <th>VZ</th>\n",
              "      <td>-0.013389</td>\n",
              "    </tr>\n",
              "  </tbody>\n",
              "</table>\n",
              "</div>\n",
              "      <button class=\"colab-df-convert\" onclick=\"convertToInteractive('df-f0ba8d5d-0f90-405d-b373-b0f2c9164728')\"\n",
              "              title=\"Convert this dataframe to an interactive table.\"\n",
              "              style=\"display:none;\">\n",
              "        \n",
              "  <svg xmlns=\"http://www.w3.org/2000/svg\" height=\"24px\"viewBox=\"0 0 24 24\"\n",
              "       width=\"24px\">\n",
              "    <path d=\"M0 0h24v24H0V0z\" fill=\"none\"/>\n",
              "    <path d=\"M18.56 5.44l.94 2.06.94-2.06 2.06-.94-2.06-.94-.94-2.06-.94 2.06-2.06.94zm-11 1L8.5 8.5l.94-2.06 2.06-.94-2.06-.94L8.5 2.5l-.94 2.06-2.06.94zm10 10l.94 2.06.94-2.06 2.06-.94-2.06-.94-.94-2.06-.94 2.06-2.06.94z\"/><path d=\"M17.41 7.96l-1.37-1.37c-.4-.4-.92-.59-1.43-.59-.52 0-1.04.2-1.43.59L10.3 9.45l-7.72 7.72c-.78.78-.78 2.05 0 2.83L4 21.41c.39.39.9.59 1.41.59.51 0 1.02-.2 1.41-.59l7.78-7.78 2.81-2.81c.8-.78.8-2.07 0-2.86zM5.41 20L4 18.59l7.72-7.72 1.47 1.35L5.41 20z\"/>\n",
              "  </svg>\n",
              "      </button>\n",
              "      \n",
              "  <style>\n",
              "    .colab-df-container {\n",
              "      display:flex;\n",
              "      flex-wrap:wrap;\n",
              "      gap: 12px;\n",
              "    }\n",
              "\n",
              "    .colab-df-convert {\n",
              "      background-color: #E8F0FE;\n",
              "      border: none;\n",
              "      border-radius: 50%;\n",
              "      cursor: pointer;\n",
              "      display: none;\n",
              "      fill: #1967D2;\n",
              "      height: 32px;\n",
              "      padding: 0 0 0 0;\n",
              "      width: 32px;\n",
              "    }\n",
              "\n",
              "    .colab-df-convert:hover {\n",
              "      background-color: #E2EBFA;\n",
              "      box-shadow: 0px 1px 2px rgba(60, 64, 67, 0.3), 0px 1px 3px 1px rgba(60, 64, 67, 0.15);\n",
              "      fill: #174EA6;\n",
              "    }\n",
              "\n",
              "    [theme=dark] .colab-df-convert {\n",
              "      background-color: #3B4455;\n",
              "      fill: #D2E3FC;\n",
              "    }\n",
              "\n",
              "    [theme=dark] .colab-df-convert:hover {\n",
              "      background-color: #434B5C;\n",
              "      box-shadow: 0px 1px 3px 1px rgba(0, 0, 0, 0.15);\n",
              "      filter: drop-shadow(0px 1px 2px rgba(0, 0, 0, 0.3));\n",
              "      fill: #FFFFFF;\n",
              "    }\n",
              "  </style>\n",
              "\n",
              "      <script>\n",
              "        const buttonEl =\n",
              "          document.querySelector('#df-f0ba8d5d-0f90-405d-b373-b0f2c9164728 button.colab-df-convert');\n",
              "        buttonEl.style.display =\n",
              "          google.colab.kernel.accessAllowed ? 'block' : 'none';\n",
              "\n",
              "        async function convertToInteractive(key) {\n",
              "          const element = document.querySelector('#df-f0ba8d5d-0f90-405d-b373-b0f2c9164728');\n",
              "          const dataTable =\n",
              "            await google.colab.kernel.invokeFunction('convertToInteractive',\n",
              "                                                     [key], {});\n",
              "          if (!dataTable) return;\n",
              "\n",
              "          const docLinkHtml = 'Like what you see? Visit the ' +\n",
              "            '<a target=\"_blank\" href=https://colab.research.google.com/notebooks/data_table.ipynb>data table notebook</a>'\n",
              "            + ' to learn more about interactive tables.';\n",
              "          element.innerHTML = '';\n",
              "          dataTable['output_type'] = 'display_data';\n",
              "          await google.colab.output.renderOutput(dataTable, element);\n",
              "          const docLink = document.createElement('div');\n",
              "          docLink.innerHTML = docLinkHtml;\n",
              "          element.appendChild(docLink);\n",
              "        }\n",
              "      </script>\n",
              "    </div>\n",
              "  </div>\n",
              "  "
            ]
          },
          "metadata": {},
          "execution_count": 24
        }
      ]
    },
    {
      "cell_type": "code",
      "source": [
        "df.sort_values(\"Retornos\")"
      ],
      "metadata": {
        "colab": {
          "base_uri": "https://localhost:8080/",
          "height": 363
        },
        "id": "ZyIsLyuI3yPz",
        "outputId": "7a36ac10-34c1-4355-ccb0-8422cb9e89f2"
      },
      "execution_count": null,
      "outputs": [
        {
          "output_type": "execute_result",
          "data": {
            "text/plain": [
              "       Retornos\n",
              "DIS   -0.035433\n",
              "VZ    -0.013389\n",
              "F      0.023266\n",
              "BRK-B  0.088728\n",
              "AXP    0.093692\n",
              "KO     0.097156\n",
              "SBUX   0.129678\n",
              "MCO    0.136221\n",
              "MSFT   0.218191\n",
              "AAPL   0.234476"
            ],
            "text/html": [
              "\n",
              "  <div id=\"df-fa186681-763e-4791-94c8-568319627ccc\">\n",
              "    <div class=\"colab-df-container\">\n",
              "      <div>\n",
              "<style scoped>\n",
              "    .dataframe tbody tr th:only-of-type {\n",
              "        vertical-align: middle;\n",
              "    }\n",
              "\n",
              "    .dataframe tbody tr th {\n",
              "        vertical-align: top;\n",
              "    }\n",
              "\n",
              "    .dataframe thead th {\n",
              "        text-align: right;\n",
              "    }\n",
              "</style>\n",
              "<table border=\"1\" class=\"dataframe\">\n",
              "  <thead>\n",
              "    <tr style=\"text-align: right;\">\n",
              "      <th></th>\n",
              "      <th>Retornos</th>\n",
              "    </tr>\n",
              "  </thead>\n",
              "  <tbody>\n",
              "    <tr>\n",
              "      <th>DIS</th>\n",
              "      <td>-0.035433</td>\n",
              "    </tr>\n",
              "    <tr>\n",
              "      <th>VZ</th>\n",
              "      <td>-0.013389</td>\n",
              "    </tr>\n",
              "    <tr>\n",
              "      <th>F</th>\n",
              "      <td>0.023266</td>\n",
              "    </tr>\n",
              "    <tr>\n",
              "      <th>BRK-B</th>\n",
              "      <td>0.088728</td>\n",
              "    </tr>\n",
              "    <tr>\n",
              "      <th>AXP</th>\n",
              "      <td>0.093692</td>\n",
              "    </tr>\n",
              "    <tr>\n",
              "      <th>KO</th>\n",
              "      <td>0.097156</td>\n",
              "    </tr>\n",
              "    <tr>\n",
              "      <th>SBUX</th>\n",
              "      <td>0.129678</td>\n",
              "    </tr>\n",
              "    <tr>\n",
              "      <th>MCO</th>\n",
              "      <td>0.136221</td>\n",
              "    </tr>\n",
              "    <tr>\n",
              "      <th>MSFT</th>\n",
              "      <td>0.218191</td>\n",
              "    </tr>\n",
              "    <tr>\n",
              "      <th>AAPL</th>\n",
              "      <td>0.234476</td>\n",
              "    </tr>\n",
              "  </tbody>\n",
              "</table>\n",
              "</div>\n",
              "      <button class=\"colab-df-convert\" onclick=\"convertToInteractive('df-fa186681-763e-4791-94c8-568319627ccc')\"\n",
              "              title=\"Convert this dataframe to an interactive table.\"\n",
              "              style=\"display:none;\">\n",
              "        \n",
              "  <svg xmlns=\"http://www.w3.org/2000/svg\" height=\"24px\"viewBox=\"0 0 24 24\"\n",
              "       width=\"24px\">\n",
              "    <path d=\"M0 0h24v24H0V0z\" fill=\"none\"/>\n",
              "    <path d=\"M18.56 5.44l.94 2.06.94-2.06 2.06-.94-2.06-.94-.94-2.06-.94 2.06-2.06.94zm-11 1L8.5 8.5l.94-2.06 2.06-.94-2.06-.94L8.5 2.5l-.94 2.06-2.06.94zm10 10l.94 2.06.94-2.06 2.06-.94-2.06-.94-.94-2.06-.94 2.06-2.06.94z\"/><path d=\"M17.41 7.96l-1.37-1.37c-.4-.4-.92-.59-1.43-.59-.52 0-1.04.2-1.43.59L10.3 9.45l-7.72 7.72c-.78.78-.78 2.05 0 2.83L4 21.41c.39.39.9.59 1.41.59.51 0 1.02-.2 1.41-.59l7.78-7.78 2.81-2.81c.8-.78.8-2.07 0-2.86zM5.41 20L4 18.59l7.72-7.72 1.47 1.35L5.41 20z\"/>\n",
              "  </svg>\n",
              "      </button>\n",
              "      \n",
              "  <style>\n",
              "    .colab-df-container {\n",
              "      display:flex;\n",
              "      flex-wrap:wrap;\n",
              "      gap: 12px;\n",
              "    }\n",
              "\n",
              "    .colab-df-convert {\n",
              "      background-color: #E8F0FE;\n",
              "      border: none;\n",
              "      border-radius: 50%;\n",
              "      cursor: pointer;\n",
              "      display: none;\n",
              "      fill: #1967D2;\n",
              "      height: 32px;\n",
              "      padding: 0 0 0 0;\n",
              "      width: 32px;\n",
              "    }\n",
              "\n",
              "    .colab-df-convert:hover {\n",
              "      background-color: #E2EBFA;\n",
              "      box-shadow: 0px 1px 2px rgba(60, 64, 67, 0.3), 0px 1px 3px 1px rgba(60, 64, 67, 0.15);\n",
              "      fill: #174EA6;\n",
              "    }\n",
              "\n",
              "    [theme=dark] .colab-df-convert {\n",
              "      background-color: #3B4455;\n",
              "      fill: #D2E3FC;\n",
              "    }\n",
              "\n",
              "    [theme=dark] .colab-df-convert:hover {\n",
              "      background-color: #434B5C;\n",
              "      box-shadow: 0px 1px 3px 1px rgba(0, 0, 0, 0.15);\n",
              "      filter: drop-shadow(0px 1px 2px rgba(0, 0, 0, 0.3));\n",
              "      fill: #FFFFFF;\n",
              "    }\n",
              "  </style>\n",
              "\n",
              "      <script>\n",
              "        const buttonEl =\n",
              "          document.querySelector('#df-fa186681-763e-4791-94c8-568319627ccc button.colab-df-convert');\n",
              "        buttonEl.style.display =\n",
              "          google.colab.kernel.accessAllowed ? 'block' : 'none';\n",
              "\n",
              "        async function convertToInteractive(key) {\n",
              "          const element = document.querySelector('#df-fa186681-763e-4791-94c8-568319627ccc');\n",
              "          const dataTable =\n",
              "            await google.colab.kernel.invokeFunction('convertToInteractive',\n",
              "                                                     [key], {});\n",
              "          if (!dataTable) return;\n",
              "\n",
              "          const docLinkHtml = 'Like what you see? Visit the ' +\n",
              "            '<a target=\"_blank\" href=https://colab.research.google.com/notebooks/data_table.ipynb>data table notebook</a>'\n",
              "            + ' to learn more about interactive tables.';\n",
              "          element.innerHTML = '';\n",
              "          dataTable['output_type'] = 'display_data';\n",
              "          await google.colab.output.renderOutput(dataTable, element);\n",
              "          const docLink = document.createElement('div');\n",
              "          docLink.innerHTML = docLinkHtml;\n",
              "          element.appendChild(docLink);\n",
              "        }\n",
              "      </script>\n",
              "    </div>\n",
              "  </div>\n",
              "  "
            ]
          },
          "metadata": {},
          "execution_count": 25
        }
      ]
    },
    {
      "cell_type": "markdown",
      "source": [
        "**PUNTO 3**"
      ],
      "metadata": {
        "id": "c3u9OcvHunyB"
      }
    },
    {
      "cell_type": "code",
      "source": [
        "activos = [\"^RUT\"]\n",
        "precios_mensuales_rusell =wb.get_data_yahoo(activos,start=\"2011-12-01\",end=\"2022-12-31\",interval=\"1Mo\")[\"Adj Close\"] \n",
        "retornos_rusell = np.log(precios_mensuales_rusell/precios_mensuales_rusell.shift(1)).dropna()\n",
        "retornos_rusell.head()"
      ],
      "metadata": {
        "colab": {
          "base_uri": "https://localhost:8080/"
        },
        "id": "SMZuN48gutXM",
        "outputId": "621e1a8d-4e5d-462d-80f2-b4257033d4e6"
      },
      "execution_count": null,
      "outputs": [
        {
          "output_type": "stream",
          "name": "stdout",
          "text": [
            "\r[*********************100%***********************]  1 of 1 completed\n"
          ]
        },
        {
          "output_type": "execute_result",
          "data": {
            "text/plain": [
              "Date\n",
              "2012-01-01    0.067704\n",
              "2012-02-01    0.022598\n",
              "2012-03-01    0.023593\n",
              "2012-04-01   -0.016295\n",
              "2012-05-01   -0.069782\n",
              "Name: Adj Close, dtype: float64"
            ]
          },
          "metadata": {},
          "execution_count": 26
        }
      ]
    },
    {
      "cell_type": "markdown",
      "source": [
        "Desviacion estandar"
      ],
      "metadata": {
        "id": "SQzZBl4Rv0cl"
      }
    },
    {
      "cell_type": "code",
      "source": [
        "sigma = retornos_rusell.std()\n",
        "sigma"
      ],
      "metadata": {
        "colab": {
          "base_uri": "https://localhost:8080/"
        },
        "id": "PTrQwrg-wGS0",
        "outputId": "b4d95e5d-22a0-4204-d301-b88025710eaa"
      },
      "execution_count": null,
      "outputs": [
        {
          "output_type": "execute_result",
          "data": {
            "text/plain": [
              "0.05474479591479422"
            ]
          },
          "metadata": {},
          "execution_count": 27
        }
      ]
    },
    {
      "cell_type": "code",
      "source": [
        "sigma*np.sqrt(12)"
      ],
      "metadata": {
        "colab": {
          "base_uri": "https://localhost:8080/"
        },
        "id": "hVZSylQ5waBZ",
        "outputId": "0db14253-e1d8-4887-fa00-b5195f9a2195"
      },
      "execution_count": null,
      "outputs": [
        {
          "output_type": "execute_result",
          "data": {
            "text/plain": [
              "0.18964153594882538"
            ]
          },
          "metadata": {},
          "execution_count": 28
        }
      ]
    },
    {
      "cell_type": "markdown",
      "source": [
        "Parkinson"
      ],
      "metadata": {
        "id": "h8DO7UkwwmMQ"
      }
    },
    {
      "cell_type": "code",
      "source": [
        "activos = [\"^RUT\"]\n",
        "precios_mensuales_rusell =wb.get_data_yahoo(activos,start=\"2011-12-01\",end=\"2022-12-31\",interval=\"1Mo\")\n",
        "retornos_rusell_completo = np.log(precios_mensuales_rusell/precios_mensuales_rusell.shift(1)).dropna()\n"
      ],
      "metadata": {
        "colab": {
          "base_uri": "https://localhost:8080/"
        },
        "id": "z3cY9hgU0nhq",
        "outputId": "3165ce6c-8aa1-4caa-a6a0-dc3c5c793946"
      },
      "execution_count": null,
      "outputs": [
        {
          "output_type": "stream",
          "name": "stdout",
          "text": [
            "\r[*********************100%***********************]  1 of 1 completed\n"
          ]
        }
      ]
    },
    {
      "cell_type": "code",
      "source": [
        "lnHL = np.log(precios_mensuales_rusell[\"High\"]/precios_mensuales_rusell[\"Low\"]).dropna()\n",
        "sigmaPark_d = ((1/(4*np.log(2)))*lnHL**2)**0.5\n",
        "sigmaPark_d.plot()"
      ],
      "metadata": {
        "colab": {
          "base_uri": "https://localhost:8080/",
          "height": 296
        },
        "id": "g5_mEztOxvh1",
        "outputId": "4ff643e4-e2ac-47dd-f778-d6a40657dd0a"
      },
      "execution_count": null,
      "outputs": [
        {
          "output_type": "execute_result",
          "data": {
            "text/plain": [
              "<matplotlib.axes._subplots.AxesSubplot at 0x7f4e46a0f910>"
            ]
          },
          "metadata": {},
          "execution_count": 30
        },
        {
          "output_type": "display_data",
          "data": {
            "text/plain": [
              "<Figure size 432x288 with 1 Axes>"
            ],
            "image/png": "[encoded data removed]"
          },
          "metadata": {
            "needs_background": "light"
          }
        }
      ]
    },
    {
      "cell_type": "code",
      "source": [
        "sigmaPark_d.mean()*np.sqrt(12)"
      ],
      "metadata": {
        "colab": {
          "base_uri": "https://localhost:8080/"
        },
        "id": "2DJKUOiW1eW0",
        "outputId": "f057a35b-2c38-4826-b166-293f6d58d231"
      },
      "execution_count": null,
      "outputs": [
        {
          "output_type": "execute_result",
          "data": {
            "text/plain": [
              "0.1767113126308943"
            ]
          },
          "metadata": {},
          "execution_count": 31
        }
      ]
    },
    {
      "cell_type": "markdown",
      "source": [
        "Garman-Klass"
      ],
      "metadata": {
        "id": "VoAWWq9s15Ad"
      }
    },
    {
      "cell_type": "code",
      "source": [
        "lnHL = np.log(precios_mensuales_rusell[\"High\"]/precios_mensuales_rusell[\"Low\"]).dropna()\n",
        "lnCO = np.log(precios_mensuales_rusell[\"Close\"]/precios_mensuales_rusell[\"Open\"]).dropna()\n",
        "sigmaGK_d = (0.5*lnHL**2-(2*np.log(2)-1)*lnCO**2)**0.5\n",
        "sigmaGK_d.plot()"
      ],
      "metadata": {
        "colab": {
          "base_uri": "https://localhost:8080/",
          "height": 297
        },
        "id": "H5qV6vT_yix7",
        "outputId": "c5ec8d0e-38c6-4141-c053-6856c4e7379e"
      },
      "execution_count": null,
      "outputs": [
        {
          "output_type": "execute_result",
          "data": {
            "text/plain": [
              "<matplotlib.axes._subplots.AxesSubplot at 0x7f4e441ffee0>"
            ]
          },
          "metadata": {},
          "execution_count": 32
        },
        {
          "output_type": "display_data",
          "data": {
            "text/plain": [
              "<Figure size 432x288 with 1 Axes>"
            ],
            "image/png": "[encoded data removed]"
          },
          "metadata": {
            "needs_background": "light"
          }
        }
      ]
    },
    {
      "cell_type": "code",
      "source": [
        "sigmaGK_d.mean()*np.sqrt(12)"
      ],
      "metadata": {
        "colab": {
          "base_uri": "https://localhost:8080/"
        },
        "id": "eriq6QeL01Mf",
        "outputId": "deb5d67e-2bf0-4434-a1f5-caada78441ef"
      },
      "execution_count": null,
      "outputs": [
        {
          "output_type": "execute_result",
          "data": {
            "text/plain": [
              "0.1815139038491142"
            ]
          },
          "metadata": {},
          "execution_count": 33
        }
      ]
    },
    {
      "cell_type": "markdown",
      "source": [
        "Volatilidad ponderada exponencial (EWMA) con una lambda de 0.94."
      ],
      "metadata": {
        "id": "OoOAhPws1wjA"
      }
    },
    {
      "cell_type": "code",
      "source": [
        "activos = [\"^RUT\"]\n",
        "precios_mensuales_rusell =wb.get_data_yahoo(activos,start=\"2011-12-01\",end=\"2022-12-31\",interval=\"1Mo\")['Adj Close']\n",
        "retornos_rusell = np.log(precios_mensuales_rusell/precios_mensuales_rusell.shift(1)).dropna()"
      ],
      "metadata": {
        "colab": {
          "base_uri": "https://localhost:8080/"
        },
        "id": "u0_8qZ7P4Uej",
        "outputId": "25044178-56f1-463c-82ee-b884e2fe0550"
      },
      "execution_count": null,
      "outputs": [
        {
          "output_type": "stream",
          "name": "stdout",
          "text": [
            "\r[*********************100%***********************]  1 of 1 completed\n"
          ]
        }
      ]
    },
    {
      "cell_type": "code",
      "source": [
        "Lambda = 0.94 \n",
        "k = len(retornos_rusell)\n",
        "td = np.arange(k-1,-1,-1) #Contador que explica que la seria va decreciendo (Primer menos uno) y que se elimina un valor (Segundo menos uno) (Un K para cada T)\n",
        "alpha = Lambda**td #Otra forma de calcularlo es con np.power(Lambda,td)\n",
        "var_S = (retornos_rusell**2*alpha).sum()*(1-Lambda) #Varianza mensual (Promedio)\n",
        "var_S \n",
        "vol_d = np.sqrt(var_S) #Volatilidad mensual\n",
        "vol_d*np.sqrt(12) #Volatilidad Anualizada\n",
        "\n"
      ],
      "metadata": {
        "colab": {
          "base_uri": "https://localhost:8080/"
        },
        "id": "f_y8aF0321uq",
        "outputId": "7e67505b-d1fe-42e8-f945-7734852b45f8"
      },
      "execution_count": null,
      "outputs": [
        {
          "output_type": "execute_result",
          "data": {
            "text/plain": [
              "0.23662477958980582"
            ]
          },
          "metadata": {},
          "execution_count": 35
        }
      ]
    },
    {
      "cell_type": "code",
      "source": [
        "def vol_ewma(retornos_rusell,Lambda):\n",
        "  k = len(retornos_rusell)\n",
        "  td = np.arange(k-1,-1,-1) \n",
        "  alpha = Lambda**td \n",
        "  var_S = retornos_rusell**2**alpha.sum()*(1-Lambda) \n",
        "  vol_d = np.sqrt(var_S)\n",
        "  return(vol_d)"
      ],
      "metadata": {
        "id": "nlgqkHee3U11"
      },
      "execution_count": null,
      "outputs": []
    }
  ]
}